{
  "nbformat": 4,
  "nbformat_minor": 0,
  "metadata": {
    "colab": {
      "provenance": []
    },
    "kernelspec": {
      "name": "python3",
      "display_name": "Python 3"
    },
    "language_info": {
      "name": "python"
    }
  },
  "cells": [
    {
      "cell_type": "code",
      "execution_count": null,
      "metadata": {
        "id": "xwW3FtiIL8EO"
      },
      "outputs": [],
      "source": [
        "!apt-get install openjdk-8-jdk-headless -qq > /dev/null"
      ]
    },
    {
      "cell_type": "code",
      "source": [
        "!wget -q https://dlcdn.apache.org/spark/spark-3.5.1/spark-3.5.1-bin-hadoop3.tgz"
      ],
      "metadata": {
        "id": "NGbU-7jCM4V-"
      },
      "execution_count": null,
      "outputs": []
    },
    {
      "cell_type": "code",
      "source": [
        "!tar xf spark-3.5.1-bin-hadoop3.tgz"
      ],
      "metadata": {
        "colab": {
          "base_uri": "https://localhost:8080/"
        },
        "id": "m0txNrFHNKnh",
        "outputId": "7c278efa-13bd-42a1-f2b9-6321dbbf971f"
      },
      "execution_count": null,
      "outputs": [
        {
          "output_type": "stream",
          "name": "stdout",
          "text": [
            "tar: spark-3.5.1-bin-hadoop3.tgz: Cannot open: No such file or directory\n",
            "tar: Error is not recoverable: exiting now\n"
          ]
        }
      ]
    },
    {
      "cell_type": "code",
      "source": [
        "!pip install -q findspark\n",
        "!pip install pyspark"
      ],
      "metadata": {
        "colab": {
          "base_uri": "https://localhost:8080/",
          "height": 0
        },
        "id": "iUt6m3HuNOAg",
        "outputId": "49682d64-009d-41fd-ed86-b6589769f141"
      },
      "execution_count": 1,
      "outputs": [
        {
          "output_type": "stream",
          "name": "stdout",
          "text": [
            "Collecting pyspark\n",
            "  Downloading pyspark-3.5.3.tar.gz (317.3 MB)\n",
            "\u001b[2K     \u001b[90m━━━━━━━━━━━━━━━━━━━━━━━━━━━━━━━━━━━━━━━━\u001b[0m \u001b[32m317.3/317.3 MB\u001b[0m \u001b[31m4.9 MB/s\u001b[0m eta \u001b[36m0:00:00\u001b[0m\n",
            "\u001b[?25h  Preparing metadata (setup.py) ... \u001b[?25l\u001b[?25hdone\n",
            "Requirement already satisfied: py4j==0.10.9.7 in /usr/local/lib/python3.10/dist-packages (from pyspark) (0.10.9.7)\n",
            "Building wheels for collected packages: pyspark\n",
            "  Building wheel for pyspark (setup.py) ... \u001b[?25l\u001b[?25hdone\n",
            "  Created wheel for pyspark: filename=pyspark-3.5.3-py2.py3-none-any.whl size=317840625 sha256=afd55fa1cb464d5954fb9ae1d93876f6a4e6389ada27ae29112c22d58518e9a1\n",
            "  Stored in directory: /root/.cache/pip/wheels/1b/3a/92/28b93e2fbfdbb07509ca4d6f50c5e407f48dce4ddbda69a4ab\n",
            "Successfully built pyspark\n",
            "Installing collected packages: pyspark\n",
            "Successfully installed pyspark-3.5.3\n"
          ]
        }
      ]
    },
    {
      "cell_type": "code",
      "source": [
        "import pyspark"
      ],
      "metadata": {
        "id": "NYp5F5J4NgDZ"
      },
      "execution_count": 2,
      "outputs": []
    },
    {
      "cell_type": "code",
      "source": [
        "from pyspark.sql import SparkSession, SQLContext, functions, Window # call Sql\n",
        "from pyspark import SparkContext # call Spark\n",
        "from google.colab import files # call google to import data file"
      ],
      "metadata": {
        "id": "aAbcgdXNPxu0"
      },
      "execution_count": 3,
      "outputs": []
    },
    {
      "cell_type": "code",
      "source": [
        "uplod = files.upload()\n"
      ],
      "metadata": {
        "colab": {
          "base_uri": "https://localhost:8080/",
          "height": 73
        },
        "id": "Id1ReY77TYOa",
        "outputId": "a04f5be9-16f9-47a4-e68a-788e71208b14"
      },
      "execution_count": 4,
      "outputs": [
        {
          "output_type": "display_data",
          "data": {
            "text/plain": [
              "<IPython.core.display.HTML object>"
            ],
            "text/html": [
              "\n",
              "     <input type=\"file\" id=\"files-289a17cc-107d-4449-b5bd-79f1bfd20310\" name=\"files[]\" multiple disabled\n",
              "        style=\"border:none\" />\n",
              "     <output id=\"result-289a17cc-107d-4449-b5bd-79f1bfd20310\">\n",
              "      Upload widget is only available when the cell has been executed in the\n",
              "      current browser session. Please rerun this cell to enable.\n",
              "      </output>\n",
              "      <script>// Copyright 2017 Google LLC\n",
              "//\n",
              "// Licensed under the Apache License, Version 2.0 (the \"License\");\n",
              "// you may not use this file except in compliance with the License.\n",
              "// You may obtain a copy of the License at\n",
              "//\n",
              "//      http://www.apache.org/licenses/LICENSE-2.0\n",
              "//\n",
              "// Unless required by applicable law or agreed to in writing, software\n",
              "// distributed under the License is distributed on an \"AS IS\" BASIS,\n",
              "// WITHOUT WARRANTIES OR CONDITIONS OF ANY KIND, either express or implied.\n",
              "// See the License for the specific language governing permissions and\n",
              "// limitations under the License.\n",
              "\n",
              "/**\n",
              " * @fileoverview Helpers for google.colab Python module.\n",
              " */\n",
              "(function(scope) {\n",
              "function span(text, styleAttributes = {}) {\n",
              "  const element = document.createElement('span');\n",
              "  element.textContent = text;\n",
              "  for (const key of Object.keys(styleAttributes)) {\n",
              "    element.style[key] = styleAttributes[key];\n",
              "  }\n",
              "  return element;\n",
              "}\n",
              "\n",
              "// Max number of bytes which will be uploaded at a time.\n",
              "const MAX_PAYLOAD_SIZE = 100 * 1024;\n",
              "\n",
              "function _uploadFiles(inputId, outputId) {\n",
              "  const steps = uploadFilesStep(inputId, outputId);\n",
              "  const outputElement = document.getElementById(outputId);\n",
              "  // Cache steps on the outputElement to make it available for the next call\n",
              "  // to uploadFilesContinue from Python.\n",
              "  outputElement.steps = steps;\n",
              "\n",
              "  return _uploadFilesContinue(outputId);\n",
              "}\n",
              "\n",
              "// This is roughly an async generator (not supported in the browser yet),\n",
              "// where there are multiple asynchronous steps and the Python side is going\n",
              "// to poll for completion of each step.\n",
              "// This uses a Promise to block the python side on completion of each step,\n",
              "// then passes the result of the previous step as the input to the next step.\n",
              "function _uploadFilesContinue(outputId) {\n",
              "  const outputElement = document.getElementById(outputId);\n",
              "  const steps = outputElement.steps;\n",
              "\n",
              "  const next = steps.next(outputElement.lastPromiseValue);\n",
              "  return Promise.resolve(next.value.promise).then((value) => {\n",
              "    // Cache the last promise value to make it available to the next\n",
              "    // step of the generator.\n",
              "    outputElement.lastPromiseValue = value;\n",
              "    return next.value.response;\n",
              "  });\n",
              "}\n",
              "\n",
              "/**\n",
              " * Generator function which is called between each async step of the upload\n",
              " * process.\n",
              " * @param {string} inputId Element ID of the input file picker element.\n",
              " * @param {string} outputId Element ID of the output display.\n",
              " * @return {!Iterable<!Object>} Iterable of next steps.\n",
              " */\n",
              "function* uploadFilesStep(inputId, outputId) {\n",
              "  const inputElement = document.getElementById(inputId);\n",
              "  inputElement.disabled = false;\n",
              "\n",
              "  const outputElement = document.getElementById(outputId);\n",
              "  outputElement.innerHTML = '';\n",
              "\n",
              "  const pickedPromise = new Promise((resolve) => {\n",
              "    inputElement.addEventListener('change', (e) => {\n",
              "      resolve(e.target.files);\n",
              "    });\n",
              "  });\n",
              "\n",
              "  const cancel = document.createElement('button');\n",
              "  inputElement.parentElement.appendChild(cancel);\n",
              "  cancel.textContent = 'Cancel upload';\n",
              "  const cancelPromise = new Promise((resolve) => {\n",
              "    cancel.onclick = () => {\n",
              "      resolve(null);\n",
              "    };\n",
              "  });\n",
              "\n",
              "  // Wait for the user to pick the files.\n",
              "  const files = yield {\n",
              "    promise: Promise.race([pickedPromise, cancelPromise]),\n",
              "    response: {\n",
              "      action: 'starting',\n",
              "    }\n",
              "  };\n",
              "\n",
              "  cancel.remove();\n",
              "\n",
              "  // Disable the input element since further picks are not allowed.\n",
              "  inputElement.disabled = true;\n",
              "\n",
              "  if (!files) {\n",
              "    return {\n",
              "      response: {\n",
              "        action: 'complete',\n",
              "      }\n",
              "    };\n",
              "  }\n",
              "\n",
              "  for (const file of files) {\n",
              "    const li = document.createElement('li');\n",
              "    li.append(span(file.name, {fontWeight: 'bold'}));\n",
              "    li.append(span(\n",
              "        `(${file.type || 'n/a'}) - ${file.size} bytes, ` +\n",
              "        `last modified: ${\n",
              "            file.lastModifiedDate ? file.lastModifiedDate.toLocaleDateString() :\n",
              "                                    'n/a'} - `));\n",
              "    const percent = span('0% done');\n",
              "    li.appendChild(percent);\n",
              "\n",
              "    outputElement.appendChild(li);\n",
              "\n",
              "    const fileDataPromise = new Promise((resolve) => {\n",
              "      const reader = new FileReader();\n",
              "      reader.onload = (e) => {\n",
              "        resolve(e.target.result);\n",
              "      };\n",
              "      reader.readAsArrayBuffer(file);\n",
              "    });\n",
              "    // Wait for the data to be ready.\n",
              "    let fileData = yield {\n",
              "      promise: fileDataPromise,\n",
              "      response: {\n",
              "        action: 'continue',\n",
              "      }\n",
              "    };\n",
              "\n",
              "    // Use a chunked sending to avoid message size limits. See b/62115660.\n",
              "    let position = 0;\n",
              "    do {\n",
              "      const length = Math.min(fileData.byteLength - position, MAX_PAYLOAD_SIZE);\n",
              "      const chunk = new Uint8Array(fileData, position, length);\n",
              "      position += length;\n",
              "\n",
              "      const base64 = btoa(String.fromCharCode.apply(null, chunk));\n",
              "      yield {\n",
              "        response: {\n",
              "          action: 'append',\n",
              "          file: file.name,\n",
              "          data: base64,\n",
              "        },\n",
              "      };\n",
              "\n",
              "      let percentDone = fileData.byteLength === 0 ?\n",
              "          100 :\n",
              "          Math.round((position / fileData.byteLength) * 100);\n",
              "      percent.textContent = `${percentDone}% done`;\n",
              "\n",
              "    } while (position < fileData.byteLength);\n",
              "  }\n",
              "\n",
              "  // All done.\n",
              "  yield {\n",
              "    response: {\n",
              "      action: 'complete',\n",
              "    }\n",
              "  };\n",
              "}\n",
              "\n",
              "scope.google = scope.google || {};\n",
              "scope.google.colab = scope.google.colab || {};\n",
              "scope.google.colab._files = {\n",
              "  _uploadFiles,\n",
              "  _uploadFilesContinue,\n",
              "};\n",
              "})(self);\n",
              "</script> "
            ]
          },
          "metadata": {}
        },
        {
          "output_type": "stream",
          "name": "stdout",
          "text": [
            "Saving netflix_titles.csv to netflix_titles.csv\n"
          ]
        }
      ]
    },
    {
      "cell_type": "code",
      "source": [
        "spark = SparkSession.builder.appName(\"Gautam\").getOrCreate()"
      ],
      "metadata": {
        "id": "upuhh_p4QMnE"
      },
      "execution_count": 5,
      "outputs": []
    },
    {
      "cell_type": "code",
      "source": [
        "spark"
      ],
      "metadata": {
        "colab": {
          "base_uri": "https://localhost:8080/",
          "height": 219
        },
        "id": "3JC2QCq7TZTI",
        "outputId": "05ac7a32-36cc-4399-9989-b47b28096727"
      },
      "execution_count": 6,
      "outputs": [
        {
          "output_type": "execute_result",
          "data": {
            "text/plain": [
              "<pyspark.sql.session.SparkSession at 0x7fce8c091cf0>"
            ],
            "text/html": [
              "\n",
              "            <div>\n",
              "                <p><b>SparkSession - in-memory</b></p>\n",
              "                \n",
              "        <div>\n",
              "            <p><b>SparkContext</b></p>\n",
              "\n",
              "            <p><a href=\"http://e1743edb9714:4040\">Spark UI</a></p>\n",
              "\n",
              "            <dl>\n",
              "              <dt>Version</dt>\n",
              "                <dd><code>v3.5.3</code></dd>\n",
              "              <dt>Master</dt>\n",
              "                <dd><code>local[*]</code></dd>\n",
              "              <dt>AppName</dt>\n",
              "                <dd><code>Gautam</code></dd>\n",
              "            </dl>\n",
              "        </div>\n",
              "        \n",
              "            </div>\n",
              "        "
            ]
          },
          "metadata": {},
          "execution_count": 6
        }
      ]
    },
    {
      "cell_type": "code",
      "source": [
        "df = spark.read.option(\"header\",True).csv(\"netflix_titles.csv\")"
      ],
      "metadata": {
        "id": "4n0IQn2lfTON"
      },
      "execution_count": 7,
      "outputs": []
    },
    {
      "cell_type": "code",
      "source": [
        "df.show(2)"
      ],
      "metadata": {
        "colab": {
          "base_uri": "https://localhost:8080/",
          "height": 0
        },
        "id": "iX0hFzefffrM",
        "outputId": "966b27ce-fb8d-4b9a-e63c-11228a389b78"
      },
      "execution_count": 8,
      "outputs": [
        {
          "output_type": "stream",
          "name": "stdout",
          "text": [
            "+-------+-------+--------------------+---------------+--------------------+-------------+------------------+------------+------+---------+--------------------+--------------------+\n",
            "|show_id|   type|               title|       director|                cast|      country|        date_added|release_year|rating| duration|           listed_in|         description|\n",
            "+-------+-------+--------------------+---------------+--------------------+-------------+------------------+------------+------+---------+--------------------+--------------------+\n",
            "|     s1|  Movie|Dick Johnson Is Dead|Kirsten Johnson|                NULL|United States|September 25, 2021|        2020| PG-13|   90 min|       Documentaries|As her father nea...|\n",
            "|     s2|TV Show|       Blood & Water|           NULL|Ama Qamata, Khosi...| South Africa|September 24, 2021|        2021| TV-MA|2 Seasons|International TV ...|After crossing pa...|\n",
            "+-------+-------+--------------------+---------------+--------------------+-------------+------------------+------------+------+---------+--------------------+--------------------+\n",
            "only showing top 2 rows\n",
            "\n"
          ]
        }
      ]
    },
    {
      "cell_type": "markdown",
      "source": [
        "Count the number of Movies vs TV Shows"
      ],
      "metadata": {
        "id": "UAM7Cj7FfccK"
      }
    },
    {
      "cell_type": "code",
      "source": [
        "cnt = df.select(\"type\").where(df.type.isin(\"TV Show\",\"Movie\"))\n",
        "grp_cnt = cnt.groupby('type').count()\n",
        "grp_cnt.show()"
      ],
      "metadata": {
        "id": "W5dVCqQThG_e",
        "colab": {
          "base_uri": "https://localhost:8080/"
        },
        "outputId": "e829b847-8406-45cc-f944-3c24478ba3fd"
      },
      "execution_count": null,
      "outputs": [
        {
          "output_type": "stream",
          "name": "stdout",
          "text": [
            "+-------+-----+\n",
            "|   type|count|\n",
            "+-------+-----+\n",
            "|TV Show| 2676|\n",
            "|  Movie| 6131|\n",
            "+-------+-----+\n",
            "\n"
          ]
        }
      ]
    },
    {
      "cell_type": "markdown",
      "source": [
        "Find the most common rating for movies and TV shows"
      ],
      "metadata": {
        "id": "FSNXPJ6ikhGz"
      }
    },
    {
      "cell_type": "code",
      "source": [
        "mostcom = df.select(\"type\",\"rating\").where(~df.rating.isin(\"Null\"))\n",
        "mostcom = mostcom.groupby('type','rating').count()\n",
        "part = Window.partitionBy(\"type\").orderBy(functions.desc('count'))\n",
        "final = mostcom.withColumn(\"dense_rank\",functions.dense_rank().over(part))\n",
        "final = final.select(\"type\",\"rating\").where((final.dense_rank==1) & (final.type.isin(\"Movie\",\"TV Show\")))\n",
        "final.show()"
      ],
      "metadata": {
        "colab": {
          "base_uri": "https://localhost:8080/"
        },
        "id": "P8HuQrZ0fiXo",
        "outputId": "84a74f9a-11f7-4ed8-bb45-cd195ced5c19"
      },
      "execution_count": null,
      "outputs": [
        {
          "output_type": "stream",
          "name": "stdout",
          "text": [
            "+-------+------+\n",
            "|   type|rating|\n",
            "+-------+------+\n",
            "|  Movie| TV-MA|\n",
            "|TV Show| TV-MA|\n",
            "+-------+------+\n",
            "\n"
          ]
        }
      ]
    },
    {
      "cell_type": "markdown",
      "source": [
        "List all movies released between 2017 to 2021 in a specific year"
      ],
      "metadata": {
        "id": "ci39J1PirNel"
      }
    },
    {
      "cell_type": "code",
      "source": [
        "movies_17_21 = df.select(\"title\").where((df.release_year >= 2017) & (df.release_year <= 2021))\n",
        "movies_17_21.show()"
      ],
      "metadata": {
        "colab": {
          "base_uri": "https://localhost:8080/"
        },
        "id": "9conZBrokkl9",
        "outputId": "56df3380-b5d4-49cc-fc2c-ee4d9e11cbd4"
      },
      "execution_count": null,
      "outputs": [
        {
          "output_type": "stream",
          "name": "stdout",
          "text": [
            "+--------------------+\n",
            "|               title|\n",
            "+--------------------+\n",
            "|Dick Johnson Is Dead|\n",
            "|       Blood & Water|\n",
            "|           Ganglands|\n",
            "|Jailbirds New Orl...|\n",
            "|        Kota Factory|\n",
            "|       Midnight Mass|\n",
            "|My Little Pony: A...|\n",
            "|The Great British...|\n",
            "|        The Starling|\n",
            "|Vendetta: Truth, ...|\n",
            "|    Bangkok Breaking|\n",
            "|        Je Suis Karl|\n",
            "|Confessions of an...|\n",
            "|Crime Stories: In...|\n",
            "|   Dear White People|\n",
            "|Europe's Most Dan...|\n",
            "|     Falsa identidad|\n",
            "|           Intrusion|\n",
            "|              Jaguar|\n",
            "|Monsters Inside: ...|\n",
            "+--------------------+\n",
            "only showing top 20 rows\n",
            "\n"
          ]
        }
      ]
    },
    {
      "cell_type": "markdown",
      "source": [
        "count the number of movies and TV shows released each year from 2011 onward?"
      ],
      "metadata": {
        "id": "4NIlhkIsvXSS"
      }
    },
    {
      "cell_type": "code",
      "source": [
        "list_11 = df.select(\"title\",\"release_year\").where(df.release_year >= 2011)\n",
        "list_11 = list_11.groupby('release_year').count().orderBy('release_year')\n",
        "list_11.show()"
      ],
      "metadata": {
        "colab": {
          "base_uri": "https://localhost:8080/"
        },
        "id": "Pfjxt-PKu0Kt",
        "outputId": "97d39476-fde4-4bb4-af98-9aa0be3bc023"
      },
      "execution_count": null,
      "outputs": [
        {
          "output_type": "stream",
          "name": "stdout",
          "text": [
            "+------------+-----+\n",
            "|release_year|count|\n",
            "+------------+-----+\n",
            "|        2011|  185|\n",
            "|        2012|  237|\n",
            "|        2013|  288|\n",
            "|        2014|  352|\n",
            "|        2015|  559|\n",
            "|        2016|  901|\n",
            "|        2017| 1030|\n",
            "|        2018| 1145|\n",
            "|        2019| 1026|\n",
            "|        2020|  952|\n",
            "|        2021|  589|\n",
            "+------------+-----+\n",
            "\n"
          ]
        }
      ]
    },
    {
      "cell_type": "markdown",
      "source": [
        "Find the top 5 countries with the most content on Netflix"
      ],
      "metadata": {
        "id": "OgttwxwO1Bdb"
      }
    },
    {
      "cell_type": "code",
      "source": [
        "seprate_country = df.select(\"*\",functions.explode(functions.split(df.country,\",\\s*\")).alias(\"countrys\"))\n",
        "seprate_country=seprate_country.select(\"countrys\")\n",
        "cnt_seprate_country=seprate_country.groupby('countrys').count()\n",
        "partition = Window.orderBy(functions.desc('count'))\n",
        "rank = cnt_seprate_country.withColumn(\"dense_rank\",functions.dense_rank().over(partition))\n",
        "rank = rank.select(\"countrys\").where(rank.dense_rank <= 5)\n",
        "rank.show()"
      ],
      "metadata": {
        "colab": {
          "base_uri": "https://localhost:8080/"
        },
        "id": "onRe9Q8awqwK",
        "outputId": "2b50581a-de1a-4cd0-a21f-8b9a4445cb83"
      },
      "execution_count": null,
      "outputs": [
        {
          "output_type": "stream",
          "name": "stdout",
          "text": [
            "+--------------+\n",
            "|      countrys|\n",
            "+--------------+\n",
            "| United States|\n",
            "|         India|\n",
            "|United Kingdom|\n",
            "|        Canada|\n",
            "|        France|\n",
            "+--------------+\n",
            "\n"
          ]
        }
      ]
    },
    {
      "cell_type": "markdown",
      "source": [
        "Identify the longest movie"
      ],
      "metadata": {
        "id": "ydg-ZMIp_FM1"
      }
    },
    {
      "cell_type": "code",
      "source": [
        "lng_movie = df.select(\n",
        "    \"type\",\n",
        "    \"title\",\n",
        "    functions.regexp_replace(\"duration\", \" min\", \"\").cast(\"int\").alias(\"dura\")\n",
        ").where(\n",
        "    (df.type == 'Movie') & (functions.col(\"duration\").isNotNull())\n",
        ").filter(\n",
        "    functions.col(\"dura\").isNotNull()\n",
        ").orderBy(functions.col(\"dura\").desc())\n",
        "\n",
        "lng_movie = lng_movie.where(lng_movie.dura <= 1000)   #longest movies till now is 873 min\n",
        "\n",
        "lng_movie.show(1)"
      ],
      "metadata": {
        "id": "KlXmI46WDRj4",
        "colab": {
          "base_uri": "https://localhost:8080/"
        },
        "outputId": "e1e2725e-1a64-41b1-9586-2cd6b83768d1"
      },
      "execution_count": null,
      "outputs": [
        {
          "output_type": "stream",
          "name": "stdout",
          "text": [
            "+-----+--------------------+----+\n",
            "| type|               title|dura|\n",
            "+-----+--------------------+----+\n",
            "|Movie|Black Mirror: Ban...| 312|\n",
            "+-----+--------------------+----+\n",
            "only showing top 1 row\n",
            "\n"
          ]
        }
      ]
    },
    {
      "cell_type": "markdown",
      "source": [
        "Identifying the Directors with the Most Movie Productions on Netflix"
      ],
      "metadata": {
        "id": "c4zHHVOawqAx"
      }
    },
    {
      "cell_type": "code",
      "source": [
        "directors = df.select(\"*\",functions.explode(functions.split(df.director,\",\\s\")).alias('dire'))\n",
        "directors = directors.select(\"*\", functions.trim(functions.col(\"dire\")).alias(\"direc\"))\n",
        "directors = directors.select(\n",
        "    \"*\",\n",
        "    functions.trim(functions.col(\"dire\")).alias(\"trimmed_direc\")\n",
        ").withColumn(\n",
        "    \"direc\",\n",
        "    functions.col(\"trimmed_direc\")\n",
        ").drop(\"trimmed_direc\")\n",
        "\n",
        "grp_dirct = directors.groupby('direc').count().orderBy(functions.col('count').desc())\n",
        "# grp_dirct.show(grp_dirct.count())\n",
        "grp_dirct.show(1)"
      ],
      "metadata": {
        "colab": {
          "base_uri": "https://localhost:8080/"
        },
        "id": "MQKjXuxmmsev",
        "outputId": "08b98dbd-82d2-467c-cc58-bc475046da73"
      },
      "execution_count": null,
      "outputs": [
        {
          "output_type": "stream",
          "name": "stdout",
          "text": [
            "+-------------+-----+\n",
            "|        direc|count|\n",
            "+-------------+-----+\n",
            "|Rajiv Chilaka|   22|\n",
            "+-------------+-----+\n",
            "only showing top 1 row\n",
            "\n"
          ]
        }
      ]
    },
    {
      "cell_type": "markdown",
      "source": [
        "List all the movies by director 'Rajiv Chilaka'"
      ],
      "metadata": {
        "id": "O4mFvtks5EDd"
      }
    },
    {
      "cell_type": "code",
      "source": [
        "Rajiv_Chilaka = df.select(\"*\",functions.explode(functions.split(df.director,\",\\s\")).alias(\"dire\"))\n",
        "Rajiv_Chilaka = Rajiv_Chilaka.select(\"*\").where(Rajiv_Chilaka.dire == \"Rajiv Chilaka\")\n",
        "Rajiv_Chilaka.show(Rajiv_Chilaka.count())"
      ],
      "metadata": {
        "colab": {
          "base_uri": "https://localhost:8080/"
        },
        "id": "kHmKYWnJxLmt",
        "outputId": "53afedf8-4443-444a-ad3a-c5057a74a0b6"
      },
      "execution_count": null,
      "outputs": [
        {
          "output_type": "stream",
          "name": "stdout",
          "text": [
            "+-------+-----+--------------------+--------------------+--------------------+-------+---------------+------------+------+--------+--------------------+--------------------+-------------+\n",
            "|show_id| type|               title|            director|                cast|country|     date_added|release_year|rating|duration|           listed_in|         description|         dire|\n",
            "+-------+-----+--------------------+--------------------+--------------------+-------+---------------+------------+------+--------+--------------------+--------------------+-------------+\n",
            "|   s407|Movie|Chhota Bheem - Ne...|       Rajiv Chilaka|Vatsal Dubey, Jul...|   NULL|  July 22, 2021|        2013| TV-Y7|  64 min|Children & Family...|Things get spooky...|Rajiv Chilaka|\n",
            "|   s408|Movie|Chhota Bheem & Ga...|       Rajiv Chilaka|Vatsal Dubey, Jul...|   NULL|  July 22, 2021|        2009| TV-Y7|  68 min|Children & Family...|Bheem and Lord Ga...|Rajiv Chilaka|\n",
            "|   s409|Movie|Chhota Bheem & Kr...|       Rajiv Chilaka|Vatsal Dubey, Jul...|   NULL|  July 22, 2021|        2011| TV-Y7|  67 min|Children & Family...|Young lord Krishn...|Rajiv Chilaka|\n",
            "|   s410|Movie|Chhota Bheem & Kr...|       Rajiv Chilaka|Vatsal Dubey, Jul...|   NULL|  July 22, 2021|        2010| TV-Y7|  66 min|Children & Family...|Krishna needs Bhe...|Rajiv Chilaka|\n",
            "|   s411|Movie|Chhota Bheem And ...|       Rajiv Chilaka|Vatsal Dubey, Jul...|  India|  July 22, 2021|        2013| TV-Y7|  64 min|Children & Family...|When a stranger t...|Rajiv Chilaka|\n",
            "|   s412|Movie|Chhota Bheem And ...|       Rajiv Chilaka|Vatsal Dubey, Jul...|   NULL|  July 22, 2021|        2013| TV-Y7|  64 min|Children & Family...|To save the kingd...|Rajiv Chilaka|\n",
            "|   s413|Movie|Chhota Bheem and ...|       Rajiv Chilaka|Vatsal Dubey, Jul...|   NULL|  July 22, 2021|        2013| TV-Y7|  65 min|Children & Family...|When Dholakpur’s ...|Rajiv Chilaka|\n",
            "|   s414|Movie|Chhota Bheem and ...|       Rajiv Chilaka|Vatsal Dubey, Jul...|   NULL|  July 22, 2021|        2013| TV-Y7|  64 min|Children & Family...|After learning of...|Rajiv Chilaka|\n",
            "|   s415|Movie|Chhota Bheem Aur ...|       Rajiv Chilaka|Vatsal Dubey, Jul...|   NULL|  July 22, 2021|        2012| TV-Y7|  68 min|Children & Family...|When two evil ent...|Rajiv Chilaka|\n",
            "|   s416|Movie|Chhota Bheem aur ...|       Rajiv Chilaka|Vatsal Dubey, Jul...|  India|  July 22, 2021|        2009| TV-Y7|  68 min|Children & Family...|Centuries after t...|Rajiv Chilaka|\n",
            "|   s417|Movie|Chhota Bheem aur ...|       Rajiv Chilaka|Vatsal Dubey, Jul...|   NULL|  July 22, 2021|        2013| TV-Y7|  64 min|Children & Family...|A demon of darkne...|Rajiv Chilaka|\n",
            "|   s420|Movie|Chhota Bheem: Bhe...|       Rajiv Chilaka|Vatsal Dubey, Jul...|   NULL|  July 22, 2021|        2010| TV-Y7|  69 min|Children & Family...|Space invaders ha...|Rajiv Chilaka|\n",
            "|   s421|Movie|Chhota Bheem: Dho...|       Rajiv Chilaka|Vatsal Dubey, Jul...|   NULL|  July 22, 2021|        2012| TV-Y7|  70 min|Children & Family...|Bheem’s holiday i...|Rajiv Chilaka|\n",
            "|   s422|Movie|Chhota Bheem: Dus...|Rajiv Chilaka, Ow...|Vatsal Dubey, Jul...|   NULL|  July 22, 2021|        2014| TV-Y7|  63 min|Children & Family...|After a precious ...|Rajiv Chilaka|\n",
            "|   s423|Movie|Chhota Bheem: Jou...|       Rajiv Chilaka|Vatsal Dubey, Jul...|   NULL|  July 22, 2021|        2011| TV-Y7|  68 min|Children & Family...|The king has been...|Rajiv Chilaka|\n",
            "|   s424|Movie|Chhota Bheem: Mas...|       Rajiv Chilaka|Pooja Punabi, Mau...|   NULL|  July 22, 2021|        2011| TV-Y7|  74 min|Children & Family...|Summoned by a mon...|Rajiv Chilaka|\n",
            "|   s425|Movie|Chhota Bheem: The...|       Rajiv Chilaka|Vatsal Dubey, Jul...|   NULL|  July 22, 2021|        2012| TV-Y7|  68 min|Children & Family...|Bheem and young l...|Rajiv Chilaka|\n",
            "|  s2718|Movie|Chhota Bheem and ...|       Rajiv Chilaka|Kaustav Ghosh, Ji...|  India|  April 1, 2020|        2012| TV-Y7|  87 min|Children & Family...|An evil demon who...|Rajiv Chilaka|\n",
            "|  s2738|Movie|Mighty Raju Rio C...|Rajiv Chilaka, An...|                NULL|  India|  April 1, 2020|        2014| TV-Y7|  97 min|Children & Family...|Mighty Raju preps...|Rajiv Chilaka|\n",
            "|  s6298|Movie|           Bheemayan|       Rajiv Chilaka|                NULL|   NULL|   May 10, 2019|        2018|  TV-Y|  63 min|Children & Family...|It's Diwali! To c...|Rajiv Chilaka|\n",
            "|  s6465|Movie|Chhota Bheem Kung...|Rajiv Chilaka, Bi...|Sonal Kaushal, Ru...|  India|August 15, 2019|        2019| TV-Y7| 112 min|Children & Family...|Chhota Bheem is i...|Rajiv Chilaka|\n",
            "|  s6646|Movie|Dragonkala Ka Rah...|       Rajiv Chilaka|                NULL|   NULL|  June 18, 2019|        2018|  TV-Y|  68 min|Children & Family...|Bheem helps to re...|Rajiv Chilaka|\n",
            "+-------+-----+--------------------+--------------------+--------------------+-------+---------------+------------+------+--------+--------------------+--------------------+-------------+\n",
            "\n"
          ]
        }
      ]
    },
    {
      "cell_type": "markdown",
      "source": [
        "List all TV shows with more than 5 seasons"
      ],
      "metadata": {
        "id": "NyX9rzST7glJ"
      }
    },
    {
      "cell_type": "code",
      "source": [
        "tv_show = df.select(\"type\",\"title\",\"duration\",\n",
        "                    functions.regexp_replace(functions.regexp_replace(\"duration\",\" Seasons\",\"\"),\" Season\",\"\" ).cast(\"int\").alias(\"dura\"))\\\n",
        ".where(df.type == \"TV Show\").orderBy(functions.col(\"dura\").desc())\n",
        "tv_show = tv_show.select(\"type\",\"title\",\"dura\").where(tv_show.dura > 5)\n",
        "tv_show.show()"
      ],
      "metadata": {
        "colab": {
          "base_uri": "https://localhost:8080/"
        },
        "id": "ZGY_Y59f5m5k",
        "outputId": "4677b86e-45f1-4354-f7c0-0edc86554b9e"
      },
      "execution_count": null,
      "outputs": [
        {
          "output_type": "stream",
          "name": "stdout",
          "text": [
            "+-------+--------------------+----+\n",
            "|   type|               title|dura|\n",
            "+-------+--------------------+----+\n",
            "|TV Show|      Grey's Anatomy|  17|\n",
            "|TV Show|        Supernatural|  15|\n",
            "|TV Show|                NCIS|  15|\n",
            "|TV Show|COMEDIANS of the ...|  13|\n",
            "|TV Show|           Heartland|  13|\n",
            "|TV Show|        Red vs. Blue|  13|\n",
            "|TV Show|   Trailer Park Boys|  12|\n",
            "|TV Show|      Criminal Minds|  12|\n",
            "|TV Show|              Cheers|  11|\n",
            "|TV Show|             Frasier|  11|\n",
            "|TV Show|    The Walking Dead|  10|\n",
            "|TV Show|    Shameless (U.S.)|  10|\n",
            "|TV Show|       Stargate SG-1|  10|\n",
            "|TV Show|Danger Mouse: Cla...|  10|\n",
            "|TV Show|          Dad's Army|  10|\n",
            "|TV Show|LEGO Ninjago: Mas...|  10|\n",
            "|TV Show|             Friends|  10|\n",
            "|TV Show|The Great British...|   9|\n",
            "|TV Show|    Call the Midwife|   9|\n",
            "|TV Show|          Still Game|   9|\n",
            "+-------+--------------------+----+\n",
            "only showing top 20 rows\n",
            "\n"
          ]
        }
      ]
    },
    {
      "cell_type": "markdown",
      "source": [
        "Count the number of content items in each genre"
      ],
      "metadata": {
        "id": "pJoA6BFiAWUC"
      }
    },
    {
      "cell_type": "code",
      "source": [
        "genre = df.select(\"show_id\",\"type\",\"listed_in\",functions.explode(functions.split(df.listed_in,\",\\s\")).alias(\"genre\"))\n",
        "genre = genre.groupby('genre').count().orderBy(functions.col('count').desc())\n",
        "genre.show()"
      ],
      "metadata": {
        "colab": {
          "base_uri": "https://localhost:8080/"
        },
        "id": "dajoUZkl8Qe5",
        "outputId": "00ea4802-2e0e-4161-d849-c8e1e76e3e5f"
      },
      "execution_count": null,
      "outputs": [
        {
          "output_type": "stream",
          "name": "stdout",
          "text": [
            "+--------------------+-----+\n",
            "|               genre|count|\n",
            "+--------------------+-----+\n",
            "|International Movies| 2748|\n",
            "|              Dramas| 2419|\n",
            "|            Comedies| 1670|\n",
            "|International TV ...| 1350|\n",
            "|       Documentaries|  866|\n",
            "|  Action & Adventure|  857|\n",
            "|           TV Dramas|  762|\n",
            "|  Independent Movies|  751|\n",
            "|Children & Family...|  641|\n",
            "|     Romantic Movies|  616|\n",
            "|         TV Comedies|  580|\n",
            "|           Thrillers|  573|\n",
            "|      Crime TV Shows|  469|\n",
            "|            Kids' TV|  451|\n",
            "|          Docuseries|  395|\n",
            "|    Music & Musicals|  373|\n",
            "|   Romantic TV Shows|  370|\n",
            "|       Horror Movies|  357|\n",
            "|     Stand-Up Comedy|  343|\n",
            "|          Reality TV|  254|\n",
            "+--------------------+-----+\n",
            "only showing top 20 rows\n",
            "\n"
          ]
        }
      ]
    },
    {
      "cell_type": "markdown",
      "source": [
        "Find each year and the total numbers of content release in India on netflix. return top 5 year with highest avg content release!"
      ],
      "metadata": {
        "id": "w9vKyjfhqD_-"
      }
    },
    {
      "cell_type": "code",
      "source": [
        "india_df = df.select(\"*\", functions.explode(functions.split(df.country,\",\\s\")).alias(\"countries\"))\n",
        "india_df = india_df.select(\"title\",\"release_year\",\"countries\").where(india_df.countries == \"India\")\n",
        "india_df = india_df.groupby('release_year').count().orderBy(functions.col('count').desc())\n",
        "windo = Window.orderBy(functions.col('count').desc())\n",
        "dense_rk = india_df.withColumn(\"dense_rank\",functions.dense_rank().over(windo))\n",
        "final = dense_rk.where(dense_rk.dense_rank <= 5)\n",
        "# dense_rk.show()\n",
        "final.show()"
      ],
      "metadata": {
        "id": "Lm7P5W4WA315",
        "colab": {
          "base_uri": "https://localhost:8080/",
          "height": 0
        },
        "outputId": "18fc4f4d-0c62-4212-8aa7-3a76b8765807"
      },
      "execution_count": 17,
      "outputs": [
        {
          "output_type": "stream",
          "name": "stdout",
          "text": [
            "+------------+-----+----------+\n",
            "|release_year|count|dense_rank|\n",
            "+------------+-----+----------+\n",
            "|        2017|  111|         1|\n",
            "|        2018|  101|         2|\n",
            "|        2019|   93|         3|\n",
            "|        2016|   80|         4|\n",
            "|        2020|   77|         5|\n",
            "+------------+-----+----------+\n",
            "\n"
          ]
        }
      ]
    },
    {
      "cell_type": "markdown",
      "source": [
        "List all movies that are documentaries"
      ],
      "metadata": {
        "id": "szPTGzg26KGz"
      }
    },
    {
      "cell_type": "code",
      "source": [
        "document = df.select(\"*\",functions.explode(functions.split(df.listed_in,\",\\s\")).alias(\"genric\"))\n",
        "document = document.select(\"type\",\"title\",\"genric\").where((document.genric == \"Documentaries\") & (document.type == \"Movie\"))\n",
        "document.show()"
      ],
      "metadata": {
        "colab": {
          "base_uri": "https://localhost:8080/",
          "height": 0
        },
        "id": "CduOR1f_q26z",
        "outputId": "64d0ae15-144f-4e4e-d479-ae3003e4ddca"
      },
      "execution_count": 22,
      "outputs": [
        {
          "output_type": "stream",
          "name": "stdout",
          "text": [
            "+-----+--------------------+-------------+\n",
            "| type|               title|       genric|\n",
            "+-----+--------------------+-------------+\n",
            "|Movie|Dick Johnson Is Dead|Documentaries|\n",
            "|Movie|Europe's Most Dan...|Documentaries|\n",
            "|Movie|My Heroes Were Co...|Documentaries|\n",
            "|Movie|          Schumacher|Documentaries|\n",
            "|Movie|Blood Brothers: M...|Documentaries|\n",
            "|Movie|The Women and the...|Documentaries|\n",
            "|Movie|If I Leave Here T...|Documentaries|\n",
            "|Movie|Untold: Breaking ...|Documentaries|\n",
            "|Movie|       Final Account|Documentaries|\n",
            "|Movie|Snervous Tyler Oa...|Documentaries|\n",
            "|Movie|Untold: Crime & P...|Documentaries|\n",
            "|Movie|Bob Ross: Happy A...|Documentaries|\n",
            "|Movie|    The River Runner|Documentaries|\n",
            "|Movie|         Count Me In|Documentaries|\n",
            "|Movie|Untold: Caitlyn J...|Documentaries|\n",
            "|Movie|Memories of a Mur...|Documentaries|\n",
            "|Movie|Untold: Deal With...|Documentaries|\n",
            "|Movie|Misha and the Wolves|Documentaries|\n",
            "|Movie|Untold: Malice at...|Documentaries|\n",
            "|Movie|City of God: 10 Y...|Documentaries|\n",
            "+-----+--------------------+-------------+\n",
            "only showing top 20 rows\n",
            "\n"
          ]
        }
      ]
    },
    {
      "cell_type": "markdown",
      "source": [
        "List all content without a director"
      ],
      "metadata": {
        "id": "VsTE_7As-HDV"
      }
    },
    {
      "cell_type": "code",
      "source": [
        "director = df.select(\"*\").where(df.director.isNull())\n",
        "director.show()"
      ],
      "metadata": {
        "colab": {
          "base_uri": "https://localhost:8080/",
          "height": 0
        },
        "id": "d4hq9iiJ6i97",
        "outputId": "6d782d9d-43be-486e-ad89-581444041a2f"
      },
      "execution_count": 27,
      "outputs": [
        {
          "output_type": "stream",
          "name": "stdout",
          "text": [
            "+-------+-------+--------------------+--------+--------------------+--------------+------------------+------------+------+---------+--------------------+--------------------+\n",
            "|show_id|   type|               title|director|                cast|       country|        date_added|release_year|rating| duration|           listed_in|         description|\n",
            "+-------+-------+--------------------+--------+--------------------+--------------+------------------+------------+------+---------+--------------------+--------------------+\n",
            "|     s2|TV Show|       Blood & Water|    NULL|Ama Qamata, Khosi...|  South Africa|September 24, 2021|        2021| TV-MA|2 Seasons|International TV ...|After crossing pa...|\n",
            "|     s4|TV Show|Jailbirds New Orl...|    NULL|                NULL|          NULL|September 24, 2021|        2021| TV-MA| 1 Season|Docuseries, Reali...|Feuds, flirtation...|\n",
            "|     s5|TV Show|        Kota Factory|    NULL|Mayur More, Jiten...|         India|September 24, 2021|        2021| TV-MA|2 Seasons|International TV ...|In a city of coac...|\n",
            "|    s11|TV Show|Vendetta: Truth, ...|    NULL|                NULL|          NULL|September 24, 2021|        2021| TV-MA| 1 Season|Crime TV Shows, D...|\"Sicily boasts a ...|\n",
            "|    s15|TV Show|Crime Stories: In...|    NULL|                NULL|          NULL|September 22, 2021|        2021| TV-MA| 1 Season|British TV Shows,...|Cameras following...|\n",
            "|    s16|TV Show|   Dear White People|    NULL|Logan Browning, B...| United States|September 22, 2021|        2021| TV-MA|4 Seasons|TV Comedies, TV D...|\"Students of colo...|\n",
            "|    s18|TV Show|     Falsa identidad|    NULL|Luis Ernesto Fran...|        Mexico|September 22, 2021|        2020| TV-MA|2 Seasons|Crime TV Shows, S...|Strangers Diego a...|\n",
            "|    s20|TV Show|              Jaguar|    NULL|Blanca Suárez, Iv...|          NULL|September 22, 2021|        2021| TV-MA| 1 Season|International TV ...|In the 1960s, a H...|\n",
            "|    s22|TV Show|Resurrection: Ert...|    NULL|Engin Altan Düzya...|        Turkey|September 22, 2021|        2018| TV-14|5 Seasons|International TV ...|When a good deed ...|\n",
            "|    s26|TV Show|Love on the Spectrum|    NULL|    Brooke Satchwell|     Australia|September 21, 2021|        2021| TV-14|2 Seasons|Docuseries, Inter...|Finding love can ...|\n",
            "|    s32|TV Show|  Chicago Party Aunt|    NULL|Lauren Ash, Rory ...|          NULL|September 17, 2021|        2021| TV-MA| 1 Season|         TV Comedies|Chicago Party Aun...|\n",
            "|    s33|TV Show|       Sex Education|    NULL|Asa Butterfield, ...|United Kingdom|September 17, 2021|        2020| TV-MA|3 Seasons|British TV Shows,...|Insecure Otis has...|\n",
            "|    s34|TV Show|          Squid Game|    NULL|Lee Jung-jae, Par...|          NULL|September 17, 2021|        2021| TV-MA| 1 Season|International TV ...|Hundreds of cash-...|\n",
            "|    s35|TV Show|Tayo and Little W...|    NULL|Dami Lee, Jason L...|          NULL|September 17, 2021|        2020| TV-Y7| 1 Season|            Kids' TV|Tayo speeds into ...|\n",
            "|    s38|TV Show|         Angry Birds|    NULL|Antti Pääkkönen, ...|       Finland|September 16, 2021|        2018| TV-Y7| 1 Season|Kids' TV, TV Come...|Birds Red, Chuck ...|\n",
            "|    s40|TV Show|        Chhota Bheem|    NULL|Vatsal Dubey, Jul...|         India|September 16, 2021|        2021| TV-Y7|3 Seasons|            Kids' TV|A brave, energeti...|\n",
            "|    s41|TV Show|He-Man and the Ma...|    NULL|Yuri Lowenthal, K...| United States|September 16, 2021|        2021| TV-Y7| 1 Season|Kids' TV, TV Sci-...|Mighty teen Adam ...|\n",
            "|    s50|TV Show|   Castle and Castle|    NULL|Richard Mofe-Dami...|       Nigeria|September 15, 2021|        2021| TV-MA|2 Seasons|International TV ...|A pair of high-po...|\n",
            "|    s51|TV Show|       Dharmakshetra|    NULL|Kashmira Irani, C...|         India|September 15, 2021|        2014| TV-PG| 1 Season|International TV ...|After the ancient...|\n",
            "|    s56|TV Show|           Nailed It|    NULL|Nicole Byer, Jacq...| United States|September 15, 2021|        2021| TV-PG|6 Seasons|          Reality TV|Home bakers with ...|\n",
            "+-------+-------+--------------------+--------+--------------------+--------------+------------------+------------+------+---------+--------------------+--------------------+\n",
            "only showing top 20 rows\n",
            "\n"
          ]
        }
      ]
    },
    {
      "cell_type": "markdown",
      "source": [
        "Thank You"
      ],
      "metadata": {
        "id": "TKJTlxTY-_AB"
      }
    }
  ]
}